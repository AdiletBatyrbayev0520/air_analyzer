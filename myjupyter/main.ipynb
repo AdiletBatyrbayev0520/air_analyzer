{
 "cells": [
  {
   "cell_type": "code",
   "execution_count": 1,
   "id": "fcff33bd-a309-43b1-9dcd-cc966d03cb44",
   "metadata": {},
   "outputs": [
    {
     "name": "stdout",
     "output_type": "stream",
     "text": [
      "Collecting kafka-python\n",
      "  Downloading kafka_python-2.2.6-py2.py3-none-any.whl (308 kB)\n",
      "\u001b[2K     \u001b[90m━━━━━━━━━━━━━━━━━━━━━━━━━━━━━━━━━━━━━\u001b[0m \u001b[32m308.2/308.2 kB\u001b[0m \u001b[31m846.2 kB/s\u001b[0m eta \u001b[36m0:00:00\u001b[0m00:01\u001b[0m00:01\u001b[0m\n",
      "\u001b[?25hCollecting numpy\n",
      "  Downloading numpy-2.0.2-cp39-cp39-manylinux_2_17_x86_64.manylinux2014_x86_64.whl (19.5 MB)\n",
      "\u001b[2K     \u001b[90m━━━━━━━━━━━━━━━━━━━━━━━━━━━━━━━━━━━━━━━━\u001b[0m \u001b[32m19.5/19.5 MB\u001b[0m \u001b[31m14.2 MB/s\u001b[0m eta \u001b[36m0:00:00\u001b[0m00:01\u001b[0m00:01\u001b[0m\n",
      "\u001b[?25hInstalling collected packages: kafka-python, numpy\n",
      "Successfully installed kafka-python-2.2.6 numpy-2.0.2\n",
      "\u001b[33mWARNING: Running pip as the 'root' user can result in broken permissions and conflicting behaviour with the system package manager. It is recommended to use a virtual environment instead: https://pip.pypa.io/warnings/venv\u001b[0m\u001b[33m\n",
      "\u001b[0m\n",
      "\u001b[1m[\u001b[0m\u001b[34;49mnotice\u001b[0m\u001b[1;39;49m]\u001b[0m\u001b[39;49m A new release of pip is available: \u001b[0m\u001b[31;49m23.0.1\u001b[0m\u001b[39;49m -> \u001b[0m\u001b[32;49m25.1.1\u001b[0m\n",
      "\u001b[1m[\u001b[0m\u001b[34;49mnotice\u001b[0m\u001b[1;39;49m]\u001b[0m\u001b[39;49m To update, run: \u001b[0m\u001b[32;49mpip install --upgrade pip\u001b[0m\n",
      "Note: you may need to restart the kernel to use updated packages.\n"
     ]
    }
   ],
   "source": [
    "pip install kafka-python numpy"
   ]
  },
  {
   "cell_type": "code",
   "execution_count": 3,
   "id": "0188a313-675c-43c7-8d4f-7a55c9acd6be",
   "metadata": {},
   "outputs": [
    {
     "data": {
      "text/plain": [
       "<kafka.producer.future.FutureRecordMetadata at 0x7f6c5552beb0>"
      ]
     },
     "execution_count": 3,
     "metadata": {},
     "output_type": "execute_result"
    }
   ],
   "source": [
    "from kafka import KafkaProducer, KafkaConsumer\n",
    "import numpy as np\n",
    "import time\n",
    "import json\n",
    "producer = KafkaProducer(bootstrap_servers='kafka:9092', value_serializer=lambda v: str(v).encode('utf-8'))\n",
    "message = 'Hi Consumer!'\n",
    "producer.send('test', f'{message}')"
   ]
  },
  {
   "cell_type": "code",
   "execution_count": null,
   "id": "22f41703-7b54-4a0c-9531-915e16bb454e",
   "metadata": {},
   "outputs": [
    {
     "name": "stdout",
     "output_type": "stream",
     "text": [
      "Received message from test: Hi Consumer!\n",
      "Received message from hall: {\"temperature\": 23.83, \"humidity\": 30.0, \"pressure\": 904.45, \"altitude\": 752.28, \"co2\": 414.52, \"tvoc\": 8.11}\n",
      "Received message from hall: {\"temperature\": 30.76, \"humidity\": 48.73, \"pressure\": 921.69, \"altitude\": 759.71, \"co2\": 418.81, \"tvoc\": 0.04}\n",
      "Received message from hall: {\"temperature\": 29.08, \"humidity\": 30.15, \"pressure\": 900.46, \"altitude\": 755.45, \"co2\": 407.34, \"tvoc\": 6.79}\n",
      "Received message from hall: {\"temperature\": 24.14, \"humidity\": 51.12, \"pressure\": 939.92, \"altitude\": 750.2, \"co2\": 402.5, \"tvoc\": 4.71}\n",
      "Received message from hall: {\"temperature\": 23.97, \"humidity\": 52.89, \"pressure\": 903.16, \"altitude\": 752.6, \"co2\": 402.81, \"tvoc\": 1.14}\n",
      "Received message from hall: {\"temperature\": 26.23, \"humidity\": 37.91, \"pressure\": 933.07, \"altitude\": 755.63, \"co2\": 404.03, \"tvoc\": 6.14}\n",
      "Received message from hall: {\"temperature\": 24.02, \"humidity\": 46.46, \"pressure\": 909.35, \"altitude\": 756.18, \"co2\": 413.99, \"tvoc\": 7.93}\n",
      "Received message from hall: {\"temperature\": 31.04, \"humidity\": 50.81, \"pressure\": 932.03, \"altitude\": 755.37, \"co2\": 412.52, \"tvoc\": 9.57}\n",
      "Received message from hall: {\"temperature\": 24.83, \"humidity\": 24.99, \"pressure\": 916.3, \"altitude\": 759.42, \"co2\": 419.22, \"tvoc\": 1.72}\n",
      "Received message from hall: {\"temperature\": 11.59, \"humidity\": 45.25, \"pressure\": 917.26, \"altitude\": 755.82, \"co2\": 413.71, \"tvoc\": 1.76}\n",
      "Received message from hall: {\"temperature\": 24.01, \"humidity\": 38.63, \"pressure\": 937.47, \"altitude\": 758.73, \"co2\": 407.74, \"tvoc\": 0.14}\n",
      "Received message from hall: {\"temperature\": 31.79, \"humidity\": 54.28, \"pressure\": 932.05, \"altitude\": 752.87, \"co2\": 400.51, \"tvoc\": 4.13}\n",
      "Received message from hall: {\"temperature\": 24.78, \"humidity\": 47.19, \"pressure\": 919.04, \"altitude\": 750.85, \"co2\": 407.5, \"tvoc\": 0.98}\n",
      "Received message from hall: {\"temperature\": 35.17, \"humidity\": 26.33, \"pressure\": 916.53, \"altitude\": 752.91, \"co2\": 406.39, \"tvoc\": 5.52}\n",
      "Received message from hall: {\"temperature\": 33.5, \"humidity\": 26.84, \"pressure\": 914.51, \"altitude\": 754.85, \"co2\": 415.2, \"tvoc\": 5.0}\n",
      "Received message from hall: {\"temperature\": 28.86, \"humidity\": 54.37, \"pressure\": 929.19, \"altitude\": 754.34, \"co2\": 402.17, \"tvoc\": 3.23}\n",
      "Received message from hall: {\"temperature\": 12.38, \"humidity\": 34.5, \"pressure\": 938.81, \"altitude\": 755.9, \"co2\": 402.23, \"tvoc\": 7.33}\n",
      "Received message from hall: {\"temperature\": 18.44, \"humidity\": 57.36, \"pressure\": 913.76, \"altitude\": 759.59, \"co2\": 403.33, \"tvoc\": 5.96}\n",
      "Received message from hall: {\"temperature\": 28.73, \"humidity\": 49.59, \"pressure\": 933.23, \"altitude\": 757.74, \"co2\": 410.95, \"tvoc\": 3.53}\n",
      "Received message from hall: {\"temperature\": 16.67, \"humidity\": 30.76, \"pressure\": 935.04, \"altitude\": 756.5, \"co2\": 401.06, \"tvoc\": 5.38}\n",
      "Received message from hall: {\"temperature\": 17.74, \"humidity\": 50.74, \"pressure\": 914.09, \"altitude\": 756.73, \"co2\": 409.48, \"tvoc\": 8.46}\n",
      "Received message from hall: {\"temperature\": 35.28, \"humidity\": 47.96, \"pressure\": 923.99, \"altitude\": 750.05, \"co2\": 406.84, \"tvoc\": 3.57}\n",
      "Received message from hall: {\"temperature\": 39.51, \"humidity\": 36.01, \"pressure\": 919.44, \"altitude\": 758.32, \"co2\": 404.93, \"tvoc\": 4.75}\n",
      "Received message from hall: {\"temperature\": 13.89, \"humidity\": 56.61, \"pressure\": 913.54, \"altitude\": 751.83, \"co2\": 410.21, \"tvoc\": 9.82}\n",
      "Received message from hall: {\"temperature\": 37.67, \"humidity\": 55.25, \"pressure\": 929.52, \"altitude\": 755.08, \"co2\": 402.71, \"tvoc\": 4.22}\n",
      "Received message from hall: {\"temperature\": 19.59, \"humidity\": 31.04, \"pressure\": 936.29, \"altitude\": 754.13, \"co2\": 417.44, \"tvoc\": 6.0}\n",
      "Received message from hall: {\"temperature\": 28.96, \"humidity\": 23.58, \"pressure\": 916.68, \"altitude\": 753.57, \"co2\": 408.73, \"tvoc\": 9.26}\n",
      "Received message from hall: {\"temperature\": 24.56, \"humidity\": 50.79, \"pressure\": 901.19, \"altitude\": 753.61, \"co2\": 402.87, \"tvoc\": 3.28}\n",
      "Received message from hall: {\"temperature\": 25.09, \"humidity\": 56.7, \"pressure\": 919.06, \"altitude\": 751.19, \"co2\": 415.24, \"tvoc\": 9.08}\n",
      "Received message from hall: {\"temperature\": 34.66, \"humidity\": 33.41, \"pressure\": 927.27, \"altitude\": 752.76, \"co2\": 405.22, \"tvoc\": 9.39}\n",
      "Received message from hall: {\"temperature\": 29.64, \"humidity\": 58.67, \"pressure\": 935.85, \"altitude\": 751.18, \"co2\": 413.09, \"tvoc\": 7.7}\n",
      "Received message from hall: {\"temperature\": 30.1, \"humidity\": 27.04, \"pressure\": 939.17, \"altitude\": 753.85, \"co2\": 417.01, \"tvoc\": 8.02}\n"
     ]
    }
   ],
   "source": [
    "from kafka import KafkaConsumer\n",
    "\n",
    "consumer = KafkaConsumer(\n",
    "    'hall', \n",
    "    'test',  \n",
    "    bootstrap_servers='kafka:9092',\n",
    "    auto_offset_reset='earliest', \n",
    "    enable_auto_commit=True,  \n",
    "    group_id='adilet-consumer-1',\n",
    ")\n",
    "\n",
    "for message in consumer:\n",
    "    print(f\"Received message from {message.topic}: {message.value.decode('utf-8')}\")"
   ]
  },
  {
   "cell_type": "code",
   "execution_count": null,
   "id": "89e80132-d67d-4201-b5cb-5c3d7c13bf6a",
   "metadata": {},
   "outputs": [],
   "source": []
  },
  {
   "cell_type": "code",
   "execution_count": null,
   "id": "9f2912f7-266e-415a-8616-552454f8d4a1",
   "metadata": {},
   "outputs": [],
   "source": []
  }
 ],
 "metadata": {
  "kernelspec": {
   "display_name": "Python 3 (ipykernel)",
   "language": "python",
   "name": "python3"
  },
  "language_info": {
   "codemirror_mode": {
    "name": "ipython",
    "version": 3
   },
   "file_extension": ".py",
   "mimetype": "text/x-python",
   "name": "python",
   "nbconvert_exporter": "python",
   "pygments_lexer": "ipython3",
   "version": "3.9.22"
  }
 },
 "nbformat": 4,
 "nbformat_minor": 5
}
