{
 "cells": [
  {
   "cell_type": "code",
   "execution_count": 8,
   "id": "fcff33bd-a309-43b1-9dcd-cc966d03cb44",
   "metadata": {},
   "outputs": [
    {
     "name": "stdout",
     "output_type": "stream",
     "text": [
      "Requirement already satisfied: kafka-python in /usr/local/lib/python3.9/site-packages (2.1.5)\n",
      "Collecting numpy\n",
      "  Downloading numpy-2.0.2-cp39-cp39-manylinux_2_17_x86_64.manylinux2014_x86_64.whl (19.5 MB)\n",
      "\u001b[2K     \u001b[90m━━━━━━━━━━━━━━━━━━━━━━━━━━━━━━━━━━━━━━━━\u001b[0m \u001b[32m19.5/19.5 MB\u001b[0m \u001b[31m45.0 MB/s\u001b[0m eta \u001b[36m0:00:00\u001b[0m00:01\u001b[0m00:01\u001b[0m\n",
      "\u001b[?25hInstalling collected packages: numpy\n",
      "Successfully installed numpy-2.0.2\n",
      "\u001b[33mWARNING: Running pip as the 'root' user can result in broken permissions and conflicting behaviour with the system package manager. It is recommended to use a virtual environment instead: https://pip.pypa.io/warnings/venv\u001b[0m\u001b[33m\n",
      "\u001b[0m\n",
      "\u001b[1m[\u001b[0m\u001b[34;49mnotice\u001b[0m\u001b[1;39;49m]\u001b[0m\u001b[39;49m A new release of pip is available: \u001b[0m\u001b[31;49m23.0.1\u001b[0m\u001b[39;49m -> \u001b[0m\u001b[32;49m25.0.1\u001b[0m\n",
      "\u001b[1m[\u001b[0m\u001b[34;49mnotice\u001b[0m\u001b[1;39;49m]\u001b[0m\u001b[39;49m To update, run: \u001b[0m\u001b[32;49mpip install --upgrade pip\u001b[0m\n",
      "Note: you may need to restart the kernel to use updated packages.\n"
     ]
    }
   ],
   "source": [
    "pip install kafka-python numpy"
   ]
  },
  {
   "cell_type": "code",
   "execution_count": 1,
   "id": "0188a313-675c-43c7-8d4f-7a55c9acd6be",
   "metadata": {},
   "outputs": [],
   "source": [
    "from kafka import KafkaProducer, KafkaConsumer\n",
    "import numpy as np\n",
    "import time\n",
    "\n",
    "producer = KafkaProducer(bootstrap_servers='kafka:9092', value_serializer=lambda v: str(v).encode('utf-8'))\n",
    "\n",
    "# while True:\n",
    "temp = np.random.rand(1, 1) * 50\n",
    "humidity = np.random.rand(1, 1) * 50\n",
    "pressure = np.random.rand(1, 1) * 50\n",
    "altitude = np.random.rand(1, 1) * 50\n",
    "co2 = np.random.rand(1, 1) * 50\n",
    "tvoc = np.random.rand(1, 1) * 50\n",
    "\n",
    "message = f'{{\"temperature\":{temp[0][0]:.2f},\"humidity\":{humidity[0][0]:.2f},\"pressure\":{pressure[0][0]:.2f},\"altitude\":{altitude[0][0]:.2f},\"co2\":{co2[0][0]:.2f},\"tvoc\":{tvoc[0][0]:.2f}}}'\n",
    "producer.send('hall', message)\n",
    "time.sleep(20)\n",
    "    "
   ]
  },
  {
   "cell_type": "code",
   "execution_count": null,
   "id": "63bf4fd6-8c20-4e35-9bc3-2cb205c6008b",
   "metadata": {},
   "outputs": [],
   "source": [
    "    temp = np.random.rand(1, 1) * 50;\n",
    "    producer.send('f103', '{\"temperature\":24.89,\"humidity\":16.76,\"pressure\":929.2,\"altitude\":724.5,\"co2\":400,\"tvoc\":0}')\n"
   ]
  },
  {
   "cell_type": "code",
   "execution_count": null,
   "id": "22f41703-7b54-4a0c-9531-915e16bb454e",
   "metadata": {},
   "outputs": [],
   "source": [
    "from kafka import KafkaConsumer\n",
    "\n",
    "# initialize consumer\n",
    "consumer = KafkaConsumer(\n",
    "    ['f103', 'i111'],\n",
    "    bootstrap_servers='kafka:9092',\n",
    "    auto_offset_reset='earliest',\n",
    "    enable_auto_commit=True,\n",
    "    group_id='group1',\n",
    ")\n",
    "\n",
    "# receive data and print\n",
    "for message in consumer:\n",
    "    print(f\"Received message: {message.value.decode('utf-8')}\")"
   ]
  },
  {
   "cell_type": "code",
   "execution_count": null,
   "id": "89e80132-d67d-4201-b5cb-5c3d7c13bf6a",
   "metadata": {},
   "outputs": [],
   "source": []
  },
  {
   "cell_type": "code",
   "execution_count": null,
   "id": "9f2912f7-266e-415a-8616-552454f8d4a1",
   "metadata": {},
   "outputs": [],
   "source": []
  }
 ],
 "metadata": {
  "kernelspec": {
   "display_name": "Python 3 (ipykernel)",
   "language": "python",
   "name": "python3"
  },
  "language_info": {
   "codemirror_mode": {
    "name": "ipython",
    "version": 3
   },
   "file_extension": ".py",
   "mimetype": "text/x-python",
   "name": "python",
   "nbconvert_exporter": "python",
   "pygments_lexer": "ipython3",
   "version": "3.9.21"
  }
 },
 "nbformat": 4,
 "nbformat_minor": 5
}
