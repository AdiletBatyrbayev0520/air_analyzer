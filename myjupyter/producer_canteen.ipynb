{
 "cells": [
  {
   "cell_type": "code",
   "execution_count": null,
   "id": "c46df9da-b444-480a-85f8-ec54b6906e61",
   "metadata": {},
   "outputs": [],
   "source": [
    "from kafka import KafkaProducer, KafkaConsumer\n",
    "import numpy as np\n",
    "import time\n",
    "import json\n",
    "producer = KafkaProducer(bootstrap_servers='kafka:9092', value_serializer=lambda v: str(v).encode('utf-8'))\n",
    "\n",
    "while True:\n",
    "    temp = 10 + np.random.rand(1, 1) * 30\n",
    "    humidity = 20 + np.random.rand(1, 1) * 40\n",
    "    pressure = 900 + np.random.rand(1, 1) * 40\n",
    "    altitude = 750 + np.random.rand(1, 1) * 10\n",
    "    co2 = 400 + np.random.rand(1, 1) * 20\n",
    "    tvoc = np.random.rand(1, 1) * 10\n",
    "    \n",
    "    message_dict = {\n",
    "        \"temperature\": round(temp[0][0], 2),\n",
    "        \"humidity\": round(humidity[0][0], 2),\n",
    "        \"pressure\": round(pressure[0][0], 2),\n",
    "        \"altitude\": round(altitude[0][0], 2),\n",
    "        \"co2\": round(co2[0][0], 2),\n",
    "        \"tvoc\": round(tvoc[0][0], 2)\n",
    "    }\n",
    "    \n",
    "    message = json.dumps(message_dict)\n",
    "    producer.send('canteen', f'{message}')\n",
    "    time.sleep(60)"
   ]
  },
  {
   "cell_type": "code",
   "execution_count": null,
   "id": "112cc2fb-0aee-422c-853a-13212cf2aa64",
   "metadata": {},
   "outputs": [],
   "source": []
  }
 ],
 "metadata": {
  "kernelspec": {
   "display_name": "Python 3 (ipykernel)",
   "language": "python",
   "name": "python3"
  },
  "language_info": {
   "codemirror_mode": {
    "name": "ipython",
    "version": 3
   },
   "file_extension": ".py",
   "mimetype": "text/x-python",
   "name": "python",
   "nbconvert_exporter": "python",
   "pygments_lexer": "ipython3",
   "version": "3.9.22"
  }
 },
 "nbformat": 4,
 "nbformat_minor": 5
}
